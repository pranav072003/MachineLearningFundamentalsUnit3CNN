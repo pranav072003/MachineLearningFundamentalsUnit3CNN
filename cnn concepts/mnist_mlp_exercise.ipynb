{
 "cells": [
  {
   "cell_type": "markdown",
   "metadata": {},
   "source": [
    "# Multi-Layer Perceptron, MNIST\n",
    "---\n",
    "In this notebook, we will train an MLP to classify images from the [MNIST database](http://yann.lecun.com/exdb/mnist/) hand-written digit database.\n",
    "\n",
    "The process will be broken down into the following steps:\n",
    ">1. Load and visualize the data\n",
    "2. Define a neural network\n",
    "3. Train the model\n",
    "4. Evaluate the performance of our trained model on a test dataset!\n",
    "\n",
    "Before we begin, we have to import the necessary libraries for working with data and PyTorch, as well as a few more for convenience."
   ]
  },
  {
   "cell_type": "code",
   "execution_count": 1,
   "metadata": {},
   "outputs": [],
   "source": [
    "!pip install -q -r requirements.txt &> /dev/null"
   ]
  },
  {
   "cell_type": "markdown",
   "metadata": {},
   "source": [
    "> Now please RESTART THE KERNEL IN YOUR NOTEBOOK then continue execution with the next cell."
   ]
  },
  {
   "cell_type": "code",
   "execution_count": 1,
   "metadata": {},
   "outputs": [],
   "source": [
    "# import libraries\n",
    "import torch\n",
    "import numpy as np\n",
    "# Progress bar\n",
    "from tqdm import tqdm\n",
    "# Will use this to figure out the number of CPUs available\n",
    "import multiprocessing"
   ]
  },
  {
   "cell_type": "markdown",
   "metadata": {},
   "source": [
    "---\n",
    "## Load and Visualize the [Data](http://pytorch.org/docs/stable/torchvision/datasets.html)\n",
    "\n",
    "Downloading may take a few moments, and you should see your progress as the data is loading. You may also choose to change the `batch_size` if you want to load more data at a time.\n",
    "\n",
    "This cell will create DataLoaders for each of our datasets."
   ]
  },
  {
   "cell_type": "code",
   "execution_count": 2,
   "metadata": {},
   "outputs": [],
   "source": [
    "# The MNIST datasets are hosted on yann.lecun.com that has moved under CloudFlare protection\n",
    "# Run this script to enable the datasets download\n",
    "# Reference: https://github.com/pytorch/vision/issues/1938\n",
    "\n",
    "from six.moves import urllib\n",
    "opener = urllib.request.build_opener()\n",
    "opener.addheaders = [('User-agent', 'Mozilla/5.0')]\n",
    "urllib.request.install_opener(opener)"
   ]
  },
  {
   "cell_type": "markdown",
   "metadata": {},
   "source": [
    "NOTE: when executing the following cell you will see a warning `The given NumPy array is not writeable ...`. Please ignore the warning, is due to a little bug in pytorch 1.9.0 that is harmless."
   ]
  },
  {
   "cell_type": "code",
   "execution_count": 3,
   "metadata": {},
   "outputs": [
    {
     "name": "stdout",
     "output_type": "stream",
     "text": [
      "Using 48000 examples for training and 12000 for validation\n",
      "Using 10000 for testing\n"
     ]
    },
    {
     "name": "stderr",
     "output_type": "stream",
     "text": [
      "/opt/conda/lib/python3.7/site-packages/torchvision/datasets/mnist.py:498: UserWarning: The given NumPy array is not writable, and PyTorch does not support non-writable tensors. This means writing to this tensor will result in undefined behavior. You may want to copy the array to protect its data or make it writable before converting it to a tensor. This type of warning will be suppressed for the rest of this program. (Triggered internally at  ../torch/csrc/utils/tensor_numpy.cpp:178.)\n",
      "  return torch.from_numpy(parsed.astype(m[2], copy=False)).view(*s)\n"
     ]
    }
   ],
   "source": [
    "from torchvision import datasets\n",
    "import torchvision.transforms as transforms\n",
    "\n",
    "# number of subprocesses to use for data loading\n",
    "# We set this equal to the number of CPUs available\n",
    "# in this machine\n",
    "num_workers = multiprocessing.cpu_count()\n",
    "\n",
    "# how many samples per batch to load. You can experiment\n",
    "# with this parameter to try to improve performances\n",
    "batch_size = 64\n",
    "\n",
    "# The output of torchvision datasets are PILImage images of range [0, 1].\n",
    "# We transform them to Tensors of normalized range [-1, 1]\n",
    "transform = transforms.Compose(\n",
    "    [\n",
    "        # This transforms takes a np.array or a PIL image of integers\n",
    "        # in the range 0-255 and transforms it to a float tensor in the\n",
    "        # range 0.0 - 1.0\n",
    "        transforms.ToTensor(),\n",
    "        # This then renormalize the tensor to be between -1.0 and 1.0,\n",
    "        # which is a better range for modern activation functions like\n",
    "        # Relu\n",
    "        transforms.Normalize((0.5), (0.5)),\n",
    "    ]\n",
    ")\n",
    "\n",
    "\n",
    "# Get train, validation and test\n",
    "\n",
    "# Let's start with train and validation\n",
    "trainval_data = datasets.MNIST(\n",
    "    root=\"data\", train=True, download=True, transform=transform\n",
    ")\n",
    "\n",
    "# Split in train and validation\n",
    "# NOTE: we set the generator with a fixed random seed for reproducibility\n",
    "train_len = int(len(trainval_data) * 0.8)\n",
    "val_len = len(trainval_data) - train_len\n",
    "print(f\"Using {train_len} examples for training and {val_len} for validation\")\n",
    "train_subset, val_subset = torch.utils.data.random_split(\n",
    "    trainval_data, [train_len, val_len], generator=torch.Generator().manual_seed(42)\n",
    ")\n",
    "\n",
    "train_loader = torch.utils.data.DataLoader(\n",
    "    dataset=train_subset, shuffle=True, batch_size=batch_size, num_workers=num_workers\n",
    ")\n",
    "val_loader = torch.utils.data.DataLoader(\n",
    "    dataset=val_subset, shuffle=False, batch_size=batch_size, num_workers=num_workers\n",
    ")\n",
    "\n",
    "# Get test data\n",
    "test_data = datasets.MNIST(root=\"data\", train=False, download=True, transform=transform)\n",
    "test_loader = torch.utils.data.DataLoader(\n",
    "    test_data, batch_size=batch_size, num_workers=num_workers\n",
    ")\n",
    "print(f\"Using {len(test_data)} for testing\")"
   ]
  },
  {
   "cell_type": "markdown",
   "metadata": {},
   "source": [
    "### Visualize a Batch of Training Data\n",
    "\n",
    "The first step in a classification task is to take a look at the data, make sure it is loaded in correctly, then make any initial observations about patterns in that data."
   ]
  },
  {
   "cell_type": "code",
   "execution_count": 4,
   "metadata": {},
   "outputs": [
    {
     "data": {
      "image/png": "[encoded data removed]",
      "text/plain": [
       "<Figure size 1800x288 with 20 Axes>"
      ]
     },
     "metadata": {
      "needs_background": "light"
     },
     "output_type": "display_data"
    }
   ],
   "source": [
    "import matplotlib.pyplot as plt\n",
    "%matplotlib inline\n",
    "    \n",
    "# obtain one batch of training images\n",
    "dataiter = iter(train_loader)\n",
    "images, labels = dataiter.next()\n",
    "images = images.numpy()\n",
    "\n",
    "# plot the images in the batch, along with the corresponding labels\n",
    "fig, subs = plt.subplots(2, 10, figsize=(25, 4))\n",
    "for idx, sub in zip(np.arange(20), subs.flatten()):\n",
    "    sub.imshow(np.squeeze(images[idx]), cmap='gray')\n",
    "    # print out the correct label for each image\n",
    "    # .item() gets the value contained in a Tensor\n",
    "    sub.set_title(str(labels[idx].item()))\n",
    "    sub.axis(\"off\")"
   ]
  },
  {
   "cell_type": "markdown",
   "metadata": {},
   "source": [
    "### View an Image in More Detail"
   ]
  },
  {
   "cell_type": "code",
   "execution_count": 5,
   "metadata": {},
   "outputs": [
    {
     "data": {
      "image/png": "[encoded data removed]",
      "text/plain": [
       "<Figure size 864x864 with 1 Axes>"
      ]
     },
     "metadata": {
      "needs_background": "light"
     },
     "output_type": "display_data"
    }
   ],
   "source": [
    "img = np.squeeze(images[1])\n",
    "\n",
    "fig, sub = plt.subplots(figsize = (12,12)) \n",
    "sub.imshow(img, cmap='gray')\n",
    "width, height = img.shape\n",
    "thresh = img.max()/2.5\n",
    "for x in range(width):\n",
    "    for y in range(height):\n",
    "        val = round(img[x][y],2) if img[x][y] !=0 else 0\n",
    "        sub.annotate(str(val), xy=(y,x),\n",
    "                    horizontalalignment='center',\n",
    "                    verticalalignment='center',\n",
    "                    color='white' if img[x][y]<thresh else 'black')\n",
    "        sub.axis(\"off\")"
   ]
  },
  {
   "cell_type": "markdown",
   "metadata": {},
   "source": [
    "---\n",
    "## Define the Network [Architecture](http://pytorch.org/docs/stable/nn.html)\n",
    "\n",
    "The architecture will be responsible for seeing as input a 784-dim Tensor of pixel values for each image, and producing a Tensor of length 10 (our number of classes) that indicates the class scores for an input image. This particular example uses two hidden layers and dropout to avoid overfitting."
   ]
  },
  {
   "cell_type": "code",
   "execution_count": 15,
   "metadata": {},
   "outputs": [
    {
     "name": "stdout",
     "output_type": "stream",
     "text": [
      "Net(\n",
      "  (fc1): Linear(in_features=784, out_features=512, bias=True)\n",
      "  (fc2): ReLU()\n",
      "  (fc3): Linear(in_features=512, out_features=256, bias=True)\n",
      "  (fc4): ReLU()\n",
      "  (fc5): Linear(in_features=256, out_features=64, bias=True)\n",
      "  (fc6): LogSoftmax(dim=1)\n",
      ")\n"
     ]
    }
   ],
   "source": [
    "import torch.nn as nn\n",
    "import torch.nn.functional as F\n",
    "\n",
    "## TODO: Define the NN architecture\n",
    "class Net(nn.Module):\n",
    "    def __init__(self):\n",
    "        super(Net, self).__init__()\n",
    "        \n",
    "        # YOUR CODE HERE\n",
    "        self.fc1 = nn.Linear(28*28, 512)\n",
    "        self.fc2 = nn.ReLU()\n",
    "        self.fc3 = nn.Linear(512, 256)\n",
    "        self.fc4 = nn.ReLU()\n",
    "        self.fc5 = nn.Linear(256, 64)\n",
    "        self.fc6 = nn.LogSoftmax(dim = 1)\n",
    "\n",
    "    def forward(self, x):\n",
    "        # flatten image input\n",
    "        x = x.view(-1, 28 * 28)\n",
    "        \n",
    "        # YOUR CODE HERE\n",
    "        x = self.fc1(x)\n",
    "        x = self.fc2(x)\n",
    "        x = self.fc3(x)\n",
    "        x = self.fc4(x)\n",
    "        x = self.fc5(x)\n",
    "        x = self.fc6(x)\n",
    "        return x\n",
    "        \n",
    "\n",
    "# initialize the NN\n",
    "model = Net()\n",
    "\n",
    "# NOTE: this is NOT the structure of the network, but merely a\n",
    "# visualization of the layers that are present. For very simple\n",
    "# architectures the two might be similar, but for more complicated\n",
    "# network they will not. See the next cell for a possible way of\n",
    "# visualizing the real structure of the network\n",
    "print(model)"
   ]
  },
  {
   "cell_type": "markdown",
   "metadata": {},
   "source": [
    "## (Bonus: visualize the structure of your network)\n",
    "You can visualize your achitecture by using netron.app. Just execute the following cell (which will save the network to a file called \"mnist_network.pt\" in this directory), then download the produced `mnist_network.pt` to your computer. Finally, go to [Netron.app](https://netron.app) and click on `Open Model`, and select the file you just downloaded."
   ]
  },
  {
   "cell_type": "code",
   "execution_count": 16,
   "metadata": {
    "scrolled": false
   },
   "outputs": [],
   "source": [
    "scripted = torch.jit.script(model)\n",
    "torch.jit.save(scripted, \"mnist_network.pt\")"
   ]
  },
  {
   "cell_type": "markdown",
   "metadata": {},
   "source": [
    "###  Specify [Loss Function](http://pytorch.org/docs/stable/nn.html#loss-functions) and [Optimizer](http://pytorch.org/docs/stable/optim.html)\n",
    "\n",
    "It's recommended that you use cross-entropy loss for classification. If you look at the documentation (linked above), you can see that PyTorch's cross entropy function applies a softmax function to the output layer *and* then calculates the log loss."
   ]
  },
  {
   "cell_type": "code",
   "execution_count": 17,
   "metadata": {},
   "outputs": [],
   "source": [
    "## TODO: Specify loss and optimization functions\n",
    "\n",
    "# specify loss function\n",
    "criterion = nn.NLLLoss() # YOUR CODE HERE\n",
    "\n",
    "# specify optimizer\n",
    "optimizer = torch.optim.SGD(model.parameters(), lr = 0.0003) # YOUR CODE HERE"
   ]
  },
  {
   "cell_type": "markdown",
   "metadata": {},
   "source": [
    "---\n",
    "## Train the Network\n",
    "\n",
    "The steps for training/learning from a batch of data are described in the comments below:\n",
    "1. Clear the gradients of all optimized variables\n",
    "2. Forward pass: compute predicted outputs by passing inputs to the model\n",
    "3. Calculate the loss\n",
    "4. Backward pass: compute gradient of the loss with respect to model parameters\n",
    "5. Perform a single optimization step (parameter update)\n",
    "6. Update average training loss\n",
    "\n",
    "The following loop trains for 30 epochs; feel free to change this number. For now, we suggest somewhere between 20-50 epochs. As you train, take a look at how the values for the training loss decrease over time. We want it to decrease while also avoiding overfitting the training data. "
   ]
  },
  {
   "cell_type": "code",
   "execution_count": 18,
   "metadata": {},
   "outputs": [
    {
     "name": "stderr",
     "output_type": "stream",
     "text": [
      "Training: 100%|███████████████████████████████| 750/750 [00:31<00:00, 23.63it/s]\n",
      "Validating: 100%|█████████████████████████████| 188/188 [00:06<00:00, 27.58it/s]"
     ]
    },
    {
     "name": "stdout",
     "output_type": "stream",
     "text": [
      "Epoch 1: training loss 3.79444, valid loss 3.28925\n"
     ]
    },
    {
     "name": "stderr",
     "output_type": "stream",
     "text": [
      "\n",
      "Training: 100%|███████████████████████████████| 750/750 [00:32<00:00, 23.01it/s]\n",
      "Validating: 100%|█████████████████████████████| 188/188 [00:06<00:00, 27.14it/s]"
     ]
    },
    {
     "name": "stdout",
     "output_type": "stream",
     "text": [
      "Epoch 2: training loss 2.68175, valid loss 2.31252\n"
     ]
    },
    {
     "name": "stderr",
     "output_type": "stream",
     "text": [
      "\n",
      "Training: 100%|███████████████████████████████| 750/750 [00:32<00:00, 22.79it/s]\n",
      "Validating: 100%|█████████████████████████████| 188/188 [00:06<00:00, 27.26it/s]"
     ]
    },
    {
     "name": "stdout",
     "output_type": "stream",
     "text": [
      "Epoch 3: training loss 2.21191, valid loss 2.13921\n"
     ]
    },
    {
     "name": "stderr",
     "output_type": "stream",
     "text": [
      "\n",
      "Training: 100%|███████████████████████████████| 750/750 [00:32<00:00, 23.27it/s]\n",
      "Validating: 100%|█████████████████████████████| 188/188 [00:06<00:00, 28.68it/s]"
     ]
    },
    {
     "name": "stdout",
     "output_type": "stream",
     "text": [
      "Epoch 4: training loss 2.08379, valid loss 2.02990\n"
     ]
    },
    {
     "name": "stderr",
     "output_type": "stream",
     "text": [
      "\n",
      "Training: 100%|███████████████████████████████| 750/750 [00:31<00:00, 23.86it/s]\n",
      "Validating: 100%|█████████████████████████████| 188/188 [00:06<00:00, 28.38it/s]"
     ]
    },
    {
     "name": "stdout",
     "output_type": "stream",
     "text": [
      "Epoch 5: training loss 1.97282, valid loss 1.91522\n"
     ]
    },
    {
     "name": "stderr",
     "output_type": "stream",
     "text": [
      "\n",
      "Training: 100%|███████████████████████████████| 750/750 [00:32<00:00, 23.07it/s]\n",
      "Validating: 100%|█████████████████████████████| 188/188 [00:06<00:00, 27.51it/s]"
     ]
    },
    {
     "name": "stdout",
     "output_type": "stream",
     "text": [
      "Epoch 6: training loss 1.85079, valid loss 1.78642\n"
     ]
    },
    {
     "name": "stderr",
     "output_type": "stream",
     "text": [
      "\n",
      "Training: 100%|███████████████████████████████| 750/750 [00:32<00:00, 23.07it/s]\n",
      "Validating: 100%|█████████████████████████████| 188/188 [00:06<00:00, 27.58it/s]"
     ]
    },
    {
     "name": "stdout",
     "output_type": "stream",
     "text": [
      "Epoch 7: training loss 1.71467, valid loss 1.64613\n"
     ]
    },
    {
     "name": "stderr",
     "output_type": "stream",
     "text": [
      "\n",
      "Training: 100%|███████████████████████████████| 750/750 [00:32<00:00, 23.27it/s]\n",
      "Validating: 100%|█████████████████████████████| 188/188 [00:06<00:00, 27.88it/s]"
     ]
    },
    {
     "name": "stdout",
     "output_type": "stream",
     "text": [
      "Epoch 8: training loss 1.56957, valid loss 1.49955\n"
     ]
    },
    {
     "name": "stderr",
     "output_type": "stream",
     "text": [
      "\n",
      "Training: 100%|███████████████████████████████| 750/750 [00:32<00:00, 22.89it/s]\n",
      "Validating: 100%|█████████████████████████████| 188/188 [00:06<00:00, 27.41it/s]"
     ]
    },
    {
     "name": "stdout",
     "output_type": "stream",
     "text": [
      "Epoch 9: training loss 1.42420, valid loss 1.35858\n"
     ]
    },
    {
     "name": "stderr",
     "output_type": "stream",
     "text": [
      "\n",
      "Training: 100%|███████████████████████████████| 750/750 [00:32<00:00, 22.73it/s]\n",
      "Validating: 100%|█████████████████████████████| 188/188 [00:06<00:00, 27.25it/s]"
     ]
    },
    {
     "name": "stdout",
     "output_type": "stream",
     "text": [
      "Epoch 10: training loss 1.28736, valid loss 1.22851\n"
     ]
    },
    {
     "name": "stderr",
     "output_type": "stream",
     "text": [
      "\n",
      "Training: 100%|███████████████████████████████| 750/750 [00:33<00:00, 22.49it/s]\n",
      "Validating: 100%|█████████████████████████████| 188/188 [00:07<00:00, 26.84it/s]"
     ]
    },
    {
     "name": "stdout",
     "output_type": "stream",
     "text": [
      "Epoch 11: training loss 1.16414, valid loss 1.11446\n"
     ]
    },
    {
     "name": "stderr",
     "output_type": "stream",
     "text": [
      "\n",
      "Training: 100%|███████████████████████████████| 750/750 [00:33<00:00, 22.61it/s]\n",
      "Validating: 100%|█████████████████████████████| 188/188 [00:06<00:00, 27.11it/s]"
     ]
    },
    {
     "name": "stdout",
     "output_type": "stream",
     "text": [
      "Epoch 12: training loss 1.05735, valid loss 1.01707\n"
     ]
    },
    {
     "name": "stderr",
     "output_type": "stream",
     "text": [
      "\n",
      "Training: 100%|███████████████████████████████| 750/750 [00:32<00:00, 22.75it/s]\n",
      "Validating: 100%|█████████████████████████████| 188/188 [00:06<00:00, 27.85it/s]"
     ]
    },
    {
     "name": "stdout",
     "output_type": "stream",
     "text": [
      "Epoch 13: training loss 0.96658, valid loss 0.93504\n"
     ]
    },
    {
     "name": "stderr",
     "output_type": "stream",
     "text": [
      "\n",
      "Training: 100%|███████████████████████████████| 750/750 [00:32<00:00, 23.08it/s]\n",
      "Validating: 100%|█████████████████████████████| 188/188 [00:06<00:00, 28.46it/s]"
     ]
    },
    {
     "name": "stdout",
     "output_type": "stream",
     "text": [
      "Epoch 14: training loss 0.89068, valid loss 0.86581\n"
     ]
    },
    {
     "name": "stderr",
     "output_type": "stream",
     "text": [
      "\n",
      "Training: 100%|███████████████████████████████| 750/750 [00:32<00:00, 23.02it/s]\n",
      "Validating: 100%|█████████████████████████████| 188/188 [00:06<00:00, 27.36it/s]"
     ]
    },
    {
     "name": "stdout",
     "output_type": "stream",
     "text": [
      "Epoch 15: training loss 0.82681, valid loss 0.80779\n"
     ]
    },
    {
     "name": "stderr",
     "output_type": "stream",
     "text": [
      "\n",
      "Training: 100%|███████████████████████████████| 750/750 [00:32<00:00, 22.88it/s]\n",
      "Validating: 100%|█████████████████████████████| 188/188 [00:06<00:00, 27.57it/s]"
     ]
    },
    {
     "name": "stdout",
     "output_type": "stream",
     "text": [
      "Epoch 16: training loss 0.77304, valid loss 0.75929\n"
     ]
    },
    {
     "name": "stderr",
     "output_type": "stream",
     "text": [
      "\n",
      "Training: 100%|███████████████████████████████| 750/750 [00:32<00:00, 22.83it/s]\n",
      "Validating: 100%|█████████████████████████████| 188/188 [00:06<00:00, 27.40it/s]"
     ]
    },
    {
     "name": "stdout",
     "output_type": "stream",
     "text": [
      "Epoch 17: training loss 0.72779, valid loss 0.71757\n"
     ]
    },
    {
     "name": "stderr",
     "output_type": "stream",
     "text": [
      "\n",
      "Training: 100%|███████████████████████████████| 750/750 [00:32<00:00, 22.87it/s]\n",
      "Validating: 100%|█████████████████████████████| 188/188 [00:06<00:00, 27.61it/s]"
     ]
    },
    {
     "name": "stdout",
     "output_type": "stream",
     "text": [
      "Epoch 18: training loss 0.68917, valid loss 0.68196\n"
     ]
    },
    {
     "name": "stderr",
     "output_type": "stream",
     "text": [
      "\n",
      "Training: 100%|███████████████████████████████| 750/750 [00:32<00:00, 22.79it/s]\n",
      "Validating: 100%|█████████████████████████████| 188/188 [00:06<00:00, 27.39it/s]"
     ]
    },
    {
     "name": "stdout",
     "output_type": "stream",
     "text": [
      "Epoch 19: training loss 0.65604, valid loss 0.65179\n"
     ]
    },
    {
     "name": "stderr",
     "output_type": "stream",
     "text": [
      "\n",
      "Training: 100%|███████████████████████████████| 750/750 [00:32<00:00, 23.13it/s]\n",
      "Validating: 100%|█████████████████████████████| 188/188 [00:06<00:00, 27.80it/s]"
     ]
    },
    {
     "name": "stdout",
     "output_type": "stream",
     "text": [
      "Epoch 20: training loss 0.62743, valid loss 0.62521\n"
     ]
    },
    {
     "name": "stderr",
     "output_type": "stream",
     "text": [
      "\n",
      "Training: 100%|███████████████████████████████| 750/750 [00:31<00:00, 23.52it/s]\n",
      "Validating: 100%|█████████████████████████████| 188/188 [00:06<00:00, 28.40it/s]"
     ]
    },
    {
     "name": "stdout",
     "output_type": "stream",
     "text": [
      "Epoch 21: training loss 0.60264, valid loss 0.60276\n"
     ]
    },
    {
     "name": "stderr",
     "output_type": "stream",
     "text": [
      "\n",
      "Training: 100%|███████████████████████████████| 750/750 [00:32<00:00, 23.25it/s]\n",
      "Validating: 100%|█████████████████████████████| 188/188 [00:06<00:00, 27.44it/s]"
     ]
    },
    {
     "name": "stdout",
     "output_type": "stream",
     "text": [
      "Epoch 22: training loss 0.58086, valid loss 0.58260\n"
     ]
    },
    {
     "name": "stderr",
     "output_type": "stream",
     "text": [
      "\n",
      "Training: 100%|███████████████████████████████| 750/750 [00:32<00:00, 23.00it/s]\n",
      "Validating: 100%|█████████████████████████████| 188/188 [00:07<00:00, 26.62it/s]"
     ]
    },
    {
     "name": "stdout",
     "output_type": "stream",
     "text": [
      "Epoch 23: training loss 0.56178, valid loss 0.56461\n"
     ]
    },
    {
     "name": "stderr",
     "output_type": "stream",
     "text": [
      "\n",
      "Training: 100%|███████████████████████████████| 750/750 [00:32<00:00, 22.82it/s]\n",
      "Validating: 100%|█████████████████████████████| 188/188 [00:06<00:00, 27.46it/s]"
     ]
    },
    {
     "name": "stdout",
     "output_type": "stream",
     "text": [
      "Epoch 24: training loss 0.54486, valid loss 0.54888\n"
     ]
    },
    {
     "name": "stderr",
     "output_type": "stream",
     "text": [
      "\n",
      "Training: 100%|███████████████████████████████| 750/750 [00:32<00:00, 22.92it/s]\n",
      "Validating: 100%|█████████████████████████████| 188/188 [00:06<00:00, 27.02it/s]"
     ]
    },
    {
     "name": "stdout",
     "output_type": "stream",
     "text": [
      "Epoch 25: training loss 0.52969, valid loss 0.53535\n"
     ]
    },
    {
     "name": "stderr",
     "output_type": "stream",
     "text": [
      "\n",
      "Training: 100%|███████████████████████████████| 750/750 [00:32<00:00, 23.00it/s]\n",
      "Validating: 100%|█████████████████████████████| 188/188 [00:06<00:00, 27.21it/s]"
     ]
    },
    {
     "name": "stdout",
     "output_type": "stream",
     "text": [
      "Epoch 26: training loss 0.51609, valid loss 0.52210\n"
     ]
    },
    {
     "name": "stderr",
     "output_type": "stream",
     "text": [
      "\n",
      "Training: 100%|███████████████████████████████| 750/750 [00:32<00:00, 22.94it/s]\n",
      "Validating: 100%|█████████████████████████████| 188/188 [00:06<00:00, 27.52it/s]"
     ]
    },
    {
     "name": "stdout",
     "output_type": "stream",
     "text": [
      "Epoch 27: training loss 0.50379, valid loss 0.51078\n"
     ]
    },
    {
     "name": "stderr",
     "output_type": "stream",
     "text": [
      "\n",
      "Training: 100%|███████████████████████████████| 750/750 [00:32<00:00, 22.92it/s]\n",
      "Validating: 100%|█████████████████████████████| 188/188 [00:06<00:00, 27.50it/s]"
     ]
    },
    {
     "name": "stdout",
     "output_type": "stream",
     "text": [
      "Epoch 28: training loss 0.49263, valid loss 0.50082\n"
     ]
    },
    {
     "name": "stderr",
     "output_type": "stream",
     "text": [
      "\n",
      "Training: 100%|███████████████████████████████| 750/750 [00:32<00:00, 23.02it/s]\n",
      "Validating: 100%|█████████████████████████████| 188/188 [00:06<00:00, 27.53it/s]"
     ]
    },
    {
     "name": "stdout",
     "output_type": "stream",
     "text": [
      "Epoch 29: training loss 0.48259, valid loss 0.49093\n"
     ]
    },
    {
     "name": "stderr",
     "output_type": "stream",
     "text": [
      "\n",
      "Training: 100%|███████████████████████████████| 750/750 [00:32<00:00, 22.84it/s]\n",
      "Validating: 100%|█████████████████████████████| 188/188 [00:06<00:00, 27.44it/s]"
     ]
    },
    {
     "name": "stdout",
     "output_type": "stream",
     "text": [
      "Epoch 30: training loss 0.47325, valid loss 0.48240\n"
     ]
    },
    {
     "name": "stderr",
     "output_type": "stream",
     "text": [
      "\n",
      "Training: 100%|███████████████████████████████| 750/750 [00:32<00:00, 23.16it/s]\n",
      "Validating: 100%|█████████████████████████████| 188/188 [00:06<00:00, 27.37it/s]"
     ]
    },
    {
     "name": "stdout",
     "output_type": "stream",
     "text": [
      "Epoch 31: training loss 0.46482, valid loss 0.47478\n"
     ]
    },
    {
     "name": "stderr",
     "output_type": "stream",
     "text": [
      "\n",
      "Training: 100%|███████████████████████████████| 750/750 [00:32<00:00, 22.77it/s]\n",
      "Validating: 100%|█████████████████████████████| 188/188 [00:06<00:00, 27.83it/s]"
     ]
    },
    {
     "name": "stdout",
     "output_type": "stream",
     "text": [
      "Epoch 32: training loss 0.45702, valid loss 0.46768\n"
     ]
    },
    {
     "name": "stderr",
     "output_type": "stream",
     "text": [
      "\n",
      "Training: 100%|███████████████████████████████| 750/750 [00:32<00:00, 22.86it/s]\n",
      "Validating: 100%|█████████████████████████████| 188/188 [00:06<00:00, 27.40it/s]"
     ]
    },
    {
     "name": "stdout",
     "output_type": "stream",
     "text": [
      "Epoch 33: training loss 0.44980, valid loss 0.46044\n"
     ]
    },
    {
     "name": "stderr",
     "output_type": "stream",
     "text": [
      "\n",
      "Training: 100%|███████████████████████████████| 750/750 [00:33<00:00, 22.67it/s]\n",
      "Validating: 100%|█████████████████████████████| 188/188 [00:06<00:00, 27.66it/s]"
     ]
    },
    {
     "name": "stdout",
     "output_type": "stream",
     "text": [
      "Epoch 34: training loss 0.44303, valid loss 0.45470\n"
     ]
    },
    {
     "name": "stderr",
     "output_type": "stream",
     "text": [
      "\n",
      "Training: 100%|███████████████████████████████| 750/750 [00:32<00:00, 22.75it/s]\n",
      "Validating: 100%|█████████████████████████████| 188/188 [00:06<00:00, 27.36it/s]"
     ]
    },
    {
     "name": "stdout",
     "output_type": "stream",
     "text": [
      "Epoch 35: training loss 0.43688, valid loss 0.44813\n"
     ]
    },
    {
     "name": "stderr",
     "output_type": "stream",
     "text": [
      "\n",
      "Training: 100%|███████████████████████████████| 750/750 [00:33<00:00, 22.68it/s]\n",
      "Validating: 100%|█████████████████████████████| 188/188 [00:06<00:00, 27.65it/s]"
     ]
    },
    {
     "name": "stdout",
     "output_type": "stream",
     "text": [
      "Epoch 36: training loss 0.43098, valid loss 0.44304\n"
     ]
    },
    {
     "name": "stderr",
     "output_type": "stream",
     "text": [
      "\n",
      "Training: 100%|███████████████████████████████| 750/750 [00:33<00:00, 22.73it/s]\n",
      "Validating: 100%|█████████████████████████████| 188/188 [00:06<00:00, 27.61it/s]"
     ]
    },
    {
     "name": "stdout",
     "output_type": "stream",
     "text": [
      "Epoch 37: training loss 0.42553, valid loss 0.43774\n"
     ]
    },
    {
     "name": "stderr",
     "output_type": "stream",
     "text": [
      "\n",
      "Training: 100%|███████████████████████████████| 750/750 [00:33<00:00, 22.56it/s]\n",
      "Validating: 100%|█████████████████████████████| 188/188 [00:06<00:00, 27.54it/s]"
     ]
    },
    {
     "name": "stdout",
     "output_type": "stream",
     "text": [
      "Epoch 38: training loss 0.42051, valid loss 0.43316\n"
     ]
    },
    {
     "name": "stderr",
     "output_type": "stream",
     "text": [
      "\n",
      "Training: 100%|███████████████████████████████| 750/750 [00:32<00:00, 22.85it/s]\n",
      "Validating: 100%|█████████████████████████████| 188/188 [00:06<00:00, 27.56it/s]"
     ]
    },
    {
     "name": "stdout",
     "output_type": "stream",
     "text": [
      "Epoch 39: training loss 0.41569, valid loss 0.42893\n"
     ]
    },
    {
     "name": "stderr",
     "output_type": "stream",
     "text": [
      "\n",
      "Training: 100%|███████████████████████████████| 750/750 [00:32<00:00, 22.84it/s]\n",
      "Validating: 100%|█████████████████████████████| 188/188 [00:06<00:00, 27.82it/s]"
     ]
    },
    {
     "name": "stdout",
     "output_type": "stream",
     "text": [
      "Epoch 40: training loss 0.41122, valid loss 0.42495\n"
     ]
    },
    {
     "name": "stderr",
     "output_type": "stream",
     "text": [
      "\n",
      "Training: 100%|███████████████████████████████| 750/750 [00:32<00:00, 22.98it/s]\n",
      "Validating: 100%|█████████████████████████████| 188/188 [00:06<00:00, 28.30it/s]"
     ]
    },
    {
     "name": "stdout",
     "output_type": "stream",
     "text": [
      "Epoch 41: training loss 0.40686, valid loss 0.42045\n"
     ]
    },
    {
     "name": "stderr",
     "output_type": "stream",
     "text": [
      "\n",
      "Training: 100%|███████████████████████████████| 750/750 [00:31<00:00, 23.52it/s]\n",
      "Validating: 100%|█████████████████████████████| 188/188 [00:06<00:00, 28.97it/s]"
     ]
    },
    {
     "name": "stdout",
     "output_type": "stream",
     "text": [
      "Epoch 42: training loss 0.40285, valid loss 0.41713\n"
     ]
    },
    {
     "name": "stderr",
     "output_type": "stream",
     "text": [
      "\n",
      "Training: 100%|███████████████████████████████| 750/750 [00:32<00:00, 23.42it/s]\n",
      "Validating: 100%|█████████████████████████████| 188/188 [00:06<00:00, 27.90it/s]"
     ]
    },
    {
     "name": "stdout",
     "output_type": "stream",
     "text": [
      "Epoch 43: training loss 0.39905, valid loss 0.41324\n"
     ]
    },
    {
     "name": "stderr",
     "output_type": "stream",
     "text": [
      "\n",
      "Training: 100%|███████████████████████████████| 750/750 [00:32<00:00, 23.40it/s]\n",
      "Validating: 100%|█████████████████████████████| 188/188 [00:06<00:00, 28.80it/s]"
     ]
    },
    {
     "name": "stdout",
     "output_type": "stream",
     "text": [
      "Epoch 44: training loss 0.39540, valid loss 0.41013\n"
     ]
    },
    {
     "name": "stderr",
     "output_type": "stream",
     "text": [
      "\n",
      "Training: 100%|███████████████████████████████| 750/750 [00:32<00:00, 23.11it/s]\n",
      "Validating: 100%|█████████████████████████████| 188/188 [00:06<00:00, 27.20it/s]"
     ]
    },
    {
     "name": "stdout",
     "output_type": "stream",
     "text": [
      "Epoch 45: training loss 0.39196, valid loss 0.40729\n"
     ]
    },
    {
     "name": "stderr",
     "output_type": "stream",
     "text": [
      "\n",
      "Training: 100%|███████████████████████████████| 750/750 [00:32<00:00, 22.95it/s]\n",
      "Validating: 100%|█████████████████████████████| 188/188 [00:06<00:00, 27.00it/s]"
     ]
    },
    {
     "name": "stdout",
     "output_type": "stream",
     "text": [
      "Epoch 46: training loss 0.38874, valid loss 0.40390\n"
     ]
    },
    {
     "name": "stderr",
     "output_type": "stream",
     "text": [
      "\n",
      "Training: 100%|███████████████████████████████| 750/750 [00:32<00:00, 22.75it/s]\n",
      "Validating: 100%|█████████████████████████████| 188/188 [00:07<00:00, 26.54it/s]"
     ]
    },
    {
     "name": "stdout",
     "output_type": "stream",
     "text": [
      "Epoch 47: training loss 0.38561, valid loss 0.40088\n"
     ]
    },
    {
     "name": "stderr",
     "output_type": "stream",
     "text": [
      "\n",
      "Training: 100%|███████████████████████████████| 750/750 [00:32<00:00, 22.78it/s]\n",
      "Validating: 100%|█████████████████████████████| 188/188 [00:07<00:00, 26.44it/s]"
     ]
    },
    {
     "name": "stdout",
     "output_type": "stream",
     "text": [
      "Epoch 48: training loss 0.38263, valid loss 0.39809\n"
     ]
    },
    {
     "name": "stderr",
     "output_type": "stream",
     "text": [
      "\n",
      "Training: 100%|███████████████████████████████| 750/750 [00:33<00:00, 22.70it/s]\n",
      "Validating: 100%|█████████████████████████████| 188/188 [00:07<00:00, 26.08it/s]"
     ]
    },
    {
     "name": "stdout",
     "output_type": "stream",
     "text": [
      "Epoch 49: training loss 0.37969, valid loss 0.39558\n"
     ]
    },
    {
     "name": "stderr",
     "output_type": "stream",
     "text": [
      "\n",
      "Training: 100%|███████████████████████████████| 750/750 [00:32<00:00, 22.94it/s]\n",
      "Validating: 100%|█████████████████████████████| 188/188 [00:06<00:00, 26.97it/s]"
     ]
    },
    {
     "name": "stdout",
     "output_type": "stream",
     "text": [
      "Epoch 50: training loss 0.37700, valid loss 0.39269\n"
     ]
    },
    {
     "name": "stderr",
     "output_type": "stream",
     "text": [
      "\n"
     ]
    }
   ],
   "source": [
    "# number of epochs to train the model\n",
    "n_epochs = 50  # suggest training between 20-50 epochs\n",
    "\n",
    "model.train() # prep model for training\n",
    "\n",
    "for epoch in range(n_epochs):\n",
    "    # monitor training loss\n",
    "    train_loss = 0.0\n",
    "    \n",
    "    ###################\n",
    "    # train the model #\n",
    "    ###################\n",
    "    for batch_idx, (data, target) in tqdm(\n",
    "            enumerate(train_loader),\n",
    "            desc=\"Training\",\n",
    "            total=len(train_loader),\n",
    "            leave=True,\n",
    "            ncols=80,\n",
    "        ):\n",
    "        # clear the gradients of all optimized variables\n",
    "        optimizer.zero_grad()\n",
    "        # forward pass: compute predicted outputs by passing inputs to the model\n",
    "        output = model(data)\n",
    "        # calculate the loss\n",
    "        loss = criterion(output, target)\n",
    "        # backward pass: compute gradient of the loss with respect to model parameters\n",
    "        loss.backward()\n",
    "        # perform a single optimization step (parameter update)\n",
    "        optimizer.step()\n",
    "        # update running training loss\n",
    "        train_loss += loss.item()*data.size(0)\n",
    "        \n",
    "    # print training statistics \n",
    "    # calculate average loss over an epoch\n",
    "    train_loss = train_loss/len(train_loader.dataset)\n",
    "    \n",
    "    # Validate\n",
    "    with torch.no_grad():\n",
    "\n",
    "        # set the model to evaluation mode\n",
    "        model.eval()\n",
    "\n",
    "        valid_loss = 0.0\n",
    "        for batch_idx, (data, target) in tqdm(\n",
    "            enumerate(val_loader),\n",
    "            desc=\"Validating\",\n",
    "            total=len(val_loader),\n",
    "            leave=True,\n",
    "            ncols=80,\n",
    "        ):\n",
    "\n",
    "            # 1. forward pass: compute predicted outputs by passing inputs to the model\n",
    "            output = model(data)  # =\n",
    "            # 2. calculate the loss\n",
    "            loss_value = criterion(output, target)  # =\n",
    "\n",
    "            # Calculate average validation loss\n",
    "            valid_loss = valid_loss + (\n",
    "                (1 / (batch_idx + 1)) * (loss_value.data.item() - valid_loss)\n",
    "            )\n",
    "    \n",
    "    print(f\"Epoch {epoch+1}: training loss {train_loss:.5f}, valid loss {valid_loss:.5f}\")"
   ]
  },
  {
   "cell_type": "markdown",
   "metadata": {},
   "source": [
    "---\n",
    "## Test the Trained Network\n",
    "\n",
    "Finally, we test our best model on previously unseen **test data** and evaluate it's performance. Testing on unseen data is a good way to check that our model generalizes well. It may also be useful to be granular in this analysis and take a look at how this model performs on each class as well as looking at its overall loss and accuracy.\n",
    "\n",
    "#### `model.eval()`\n",
    "\n",
    "`model.eval(`) will set all the layers in your model to evaluation mode. This affects layers like dropout layers that turn \"off\" nodes during training with some probability, but should allow every node to be \"on\" for evaluation!"
   ]
  },
  {
   "cell_type": "code",
   "execution_count": 19,
   "metadata": {},
   "outputs": [
    {
     "name": "stderr",
     "output_type": "stream",
     "text": [
      "Testing: 100%|████████████████████████████████| 157/157 [00:05<00:00, 26.76it/s]"
     ]
    },
    {
     "name": "stdout",
     "output_type": "stream",
     "text": [
      "Test Loss: 0.363266\n",
      "\n",
      "Test Accuracy of 0: 97.14%% (952/980)\n",
      "Test Accuracy of 1: 96.56%% (1096/1135)\n",
      "Test Accuracy of 2: 86.24%% (890/1032)\n",
      "Test Accuracy of 3: 89.41%% (903/1010)\n",
      "Test Accuracy of 4: 92.06%% (904/982)\n",
      "Test Accuracy of 5: 82.06%% (732/892)\n",
      "Test Accuracy of 6: 91.54%% (877/958)\n",
      "Test Accuracy of 7: 89.59%% (921/1028)\n",
      "Test Accuracy of 8: 83.98%% (818/974)\n",
      "Test Accuracy of 9: 87.02%% (878/1009)\n",
      "\n",
      "Test Accuracy (Overall): 89.71%% (8971/10000)\n"
     ]
    },
    {
     "name": "stderr",
     "output_type": "stream",
     "text": [
      "\n"
     ]
    }
   ],
   "source": [
    "# initialize lists to monitor test loss and accuracy\n",
    "test_loss = 0.0\n",
    "class_correct = list(0.0 for i in range(10))\n",
    "class_total = list(0.0 for i in range(10))\n",
    "\n",
    "model.eval()  # prep model for *evaluation*\n",
    "\n",
    "for batch_idx, (data, target) in tqdm(\n",
    "    enumerate(test_loader),\n",
    "    desc=\"Testing\",\n",
    "    total=len(test_loader),\n",
    "    leave=True,\n",
    "    ncols=80,\n",
    "):\n",
    "    # forward pass: compute predicted outputs by passing inputs to the model\n",
    "    output = model(data)\n",
    "    # calculate the loss\n",
    "    loss = criterion(output, target)\n",
    "    # update test loss\n",
    "    test_loss += loss.item() * data.size(0)\n",
    "    # convert output probabilities to predicted class\n",
    "    _, pred = torch.max(output, 1)\n",
    "    # compare predictions to true label\n",
    "    correct = np.squeeze(pred.eq(target.data.view_as(pred)))\n",
    "    # calculate test accuracy for each object class\n",
    "    for i in range(data.shape[0]):\n",
    "        label = target.data[i]\n",
    "        class_correct[label] += correct[i].item()\n",
    "        class_total[label] += 1\n",
    "\n",
    "# calculate and print avg test loss\n",
    "test_loss = test_loss / len(test_loader.dataset)\n",
    "print(f\"Test Loss: {test_loss:.6f}\\n\")\n",
    "\n",
    "for i in range(10):\n",
    "    if class_total[i] > 0:\n",
    "        print(\n",
    "            f\"Test Accuracy of {i}: {100 * class_correct[i] / class_total[i]:.2f}%% \"\n",
    "            f\"({int(np.sum(class_correct[i]))}/{int(np.sum(class_total[i]))})\"\n",
    "        )\n",
    "    else:\n",
    "        print(f\"Test Accuracy of {classes[i]}: N/A (no training examples)\")\n",
    "\n",
    "print(\n",
    "    f\"\\nTest Accuracy (Overall): {100.0 * np.sum(class_correct) / np.sum(class_total)}%% \"\n",
    "    f\"({int(np.sum(class_correct))}/{int(np.sum(class_total))})\"\n",
    ")"
   ]
  },
  {
   "cell_type": "markdown",
   "metadata": {},
   "source": [
    "### Visualize Sample Test Results\n",
    "\n",
    "This cell displays test images and their labels in this format: `predicted (ground-truth)`. The text will be green for accurately classified examples and red for incorrect predictions."
   ]
  },
  {
   "cell_type": "code",
   "execution_count": 20,
   "metadata": {},
   "outputs": [
    {
     "data": {
      "image/png": "[encoded data removed]",
      "text/plain": [
       "<Figure size 1800x288 with 20 Axes>"
      ]
     },
     "metadata": {
      "needs_background": "light"
     },
     "output_type": "display_data"
    }
   ],
   "source": [
    "# obtain one batch of test images\n",
    "dataiter = iter(test_loader)\n",
    "images, labels = dataiter.next()\n",
    "\n",
    "# get sample outputs\n",
    "output = model(images)\n",
    "# convert output probabilities to predicted class\n",
    "_, preds = torch.max(output, 1)\n",
    "# prep images for display\n",
    "images = images.numpy()\n",
    "\n",
    "# plot the images in the batch, along with predicted and true labels\n",
    "fig, subs = plt.subplots(2, 10, figsize=(25, 4))\n",
    "for idx, sub in zip(range(20), subs.flatten()):\n",
    "    sub.imshow(np.squeeze(images[idx]), cmap='gray')\n",
    "    sub.set_title(f\"{str(preds[idx].item())} ({str(labels[idx].item())})\",\n",
    "                 color=(\"green\" if preds[idx]==labels[idx] else \"red\"))\n",
    "    sub.axis(\"off\")"
   ]
  },
  {
   "cell_type": "code",
   "execution_count": null,
   "metadata": {},
   "outputs": [],
   "source": []
  }
 ],
 "metadata": {
  "anaconda-cloud": {},
  "kernelspec": {
   "display_name": "Python 3",
   "language": "python",
   "name": "python3"
  },
  "language_info": {
   "codemirror_mode": {
    "name": "ipython",
    "version": 3
   },
   "file_extension": ".py",
   "mimetype": "text/x-python",
   "name": "python",
   "nbconvert_exporter": "python",
   "pygments_lexer": "ipython3",
   "version": "3.7.6"
  },
  "widgets": {
   "application/vnd.jupyter.widget-state+json": {
    "state": {},
    "version_major": 2,
    "version_minor": 0
   }
  }
 },
 "nbformat": 4,
 "nbformat_minor": 4
}
